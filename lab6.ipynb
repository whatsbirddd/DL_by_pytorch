{
  "nbformat": 4,
  "nbformat_minor": 0,
  "metadata": {
    "colab": {
      "name": "lab6.ipynb",
      "provenance": [],
      "collapsed_sections": []
    },
    "kernelspec": {
      "name": "python3",
      "display_name": "Python 3"
    },
    "language_info": {
      "name": "python"
    }
  },
  "cells": [
    {
      "cell_type": "code",
      "metadata": {
        "id": "TrY5at9qTHh4"
      },
      "source": [
        "import torch\n",
        "import torch.nn as nn\n",
        "import torch.nn.functional as F\n",
        "import torch.optim as optim"
      ],
      "execution_count": 1,
      "outputs": []
    },
    {
      "cell_type": "code",
      "metadata": {
        "id": "1UgnSIq1TPvJ"
      },
      "source": [
        "z = torch.FloatTensor([1, 2, 3])"
      ],
      "execution_count": 2,
      "outputs": []
    },
    {
      "cell_type": "markdown",
      "metadata": {
        "id": "g-J8AwDny8Q9"
      },
      "source": [
        "# softmax"
      ]
    },
    {
      "cell_type": "code",
      "metadata": {
        "colab": {
          "base_uri": "https://localhost:8080/"
        },
        "id": "f2xRcN1jwoBx",
        "outputId": "972dc4da-52d7-4afd-81eb-98dd734b9e7c"
      },
      "source": [
        "#softmax\n",
        "hypothesis = F.softmax(z, dim = 0)\n",
        "print(hypothesis)\n",
        "print(hypothesis.sum())"
      ],
      "execution_count": 5,
      "outputs": [
        {
          "output_type": "stream",
          "text": [
            "tensor([0.0900, 0.2447, 0.6652])\n",
            "tensor(1.)\n"
          ],
          "name": "stdout"
        }
      ]
    },
    {
      "cell_type": "markdown",
      "metadata": {
        "id": "Dsj-Xq7Sy_fC"
      },
      "source": [
        "# cross entropy"
      ]
    },
    {
      "cell_type": "code",
      "metadata": {
        "colab": {
          "base_uri": "https://localhost:8080/"
        },
        "id": "QQlCeKZkwtM-",
        "outputId": "554e677e-2250-456c-d29f-b9c0dc575b55"
      },
      "source": [
        "z = torch.rand(3,5,requires_grad=True)\n",
        "hypothesis = F.softmax(z, dim=1)\n",
        "print(hypothesis)"
      ],
      "execution_count": 6,
      "outputs": [
        {
          "output_type": "stream",
          "text": [
            "tensor([[0.1063, 0.2182, 0.2422, 0.2529, 0.1805],\n",
            "        [0.2203, 0.1774, 0.2266, 0.1790, 0.1967],\n",
            "        [0.1497, 0.1979, 0.3255, 0.1442, 0.1827]], grad_fn=<SoftmaxBackward>)\n"
          ],
          "name": "stdout"
        }
      ]
    },
    {
      "cell_type": "code",
      "metadata": {
        "colab": {
          "base_uri": "https://localhost:8080/"
        },
        "id": "bPkWa7Zxwwpx",
        "outputId": "bf825a6d-eeb5-4878-bd8d-27c4ceb1b361"
      },
      "source": [
        "y = torch.randint(5,(3,)).long()#one-hot vector의 인덱스값\n",
        "print(y)"
      ],
      "execution_count": 7,
      "outputs": [
        {
          "output_type": "stream",
          "text": [
            "tensor([0, 2, 0])\n"
          ],
          "name": "stdout"
        }
      ]
    },
    {
      "cell_type": "code",
      "metadata": {
        "colab": {
          "base_uri": "https://localhost:8080/"
        },
        "id": "XkCU6fHzzytr",
        "outputId": "6c7b8176-d9ce-4ae4-c4a5-ee7e06a4bd18"
      },
      "source": [
        "y_one_hot = torch.zeros_like(ypothesis)\n",
        "y_one_hot.scatter_(1,y.unsqueeze(1),1)#1은 dim, y.unsqueeze는 (3,)->(3,1)"
      ],
      "execution_count": 10,
      "outputs": [
        {
          "output_type": "execute_result",
          "data": {
            "text/plain": [
              "tensor([[1., 0., 0., 0., 0.],\n",
              "        [0., 0., 1., 0., 0.],\n",
              "        [1., 0., 0., 0., 0.]])"
            ]
          },
          "metadata": {
            "tags": []
          },
          "execution_count": 10
        }
      ]
    },
    {
      "cell_type": "code",
      "metadata": {
        "colab": {
          "base_uri": "https://localhost:8080/"
        },
        "id": "1tcZMMM40bU7",
        "outputId": "c0265e3a-f185-453f-e9eb-b7033e2df4d1"
      },
      "source": [
        "cost = (y_one_hot * -torch.log(hypothesis)).sum(dim=1).mean() #(3,5) ->sum -> (3,1) -> mean -> scalar\n",
        "print(cost)"
      ],
      "execution_count": 11,
      "outputs": [
        {
          "output_type": "stream",
          "text": [
            "tensor(1.8753, grad_fn=<MeanBackward0>)\n"
          ],
          "name": "stdout"
        }
      ]
    },
    {
      "cell_type": "code",
      "metadata": {
        "colab": {
          "base_uri": "https://localhost:8080/"
        },
        "id": "TIheFgm4062A",
        "outputId": "1c940092-de9f-4e88-d7b0-6ea2697d8c19"
      },
      "source": [
        "#low level\n",
        "torch.log(F.softmax(z, dim=1))\n",
        "#high level\n",
        "F.log_softmax(z,dim=1)\n",
        "#negative log likelihood\n",
        "F.nll_loss(F.log_softmax(z,dim=1),y) #뒤의 sum과 mean을 생략할 수 있음\n",
        "#더 간단\n",
        "F.cross_entropy(z,y)"
      ],
      "execution_count": 12,
      "outputs": [
        {
          "output_type": "execute_result",
          "data": {
            "text/plain": [
              "tensor(1.8753, grad_fn=<NllLossBackward>)"
            ]
          },
          "metadata": {
            "tags": []
          },
          "execution_count": 12
        }
      ]
    },
    {
      "cell_type": "code",
      "metadata": {
        "id": "rvNEUGdb1h8z"
      },
      "source": [
        "x_train = [[1, 2, 1, 1],\n",
        "           [2, 1, 3, 2],\n",
        "           [3, 1, 3, 4],\n",
        "           [4, 1, 5, 5],\n",
        "           [1, 7, 5, 5],\n",
        "           [1, 2, 5, 6],\n",
        "           [1, 6, 6, 6],\n",
        "           [1, 7, 7, 7]]\n",
        "y_train = [2, 2, 2, 1, 1, 1, 0, 0]\n",
        "x_train = torch.FloatTensor(x_train)\n",
        "\n",
        "y_train = torch.LongTensor(y_train) #one-hot vector로 바꿀거니까"
      ],
      "execution_count": 13,
      "outputs": []
    },
    {
      "cell_type": "code",
      "metadata": {
        "colab": {
          "base_uri": "https://localhost:8080/"
        },
        "id": "q3JIrsHU1qhB",
        "outputId": "f22af7ff-e9f6-49be-d818-d00e132b4bec"
      },
      "source": [
        "# samples = 4, classses = 3, dim = 4\n",
        "#모델 초기화\n",
        "W = torch.zeros((4,3), requires_grad = True)\n",
        "b = torch.zeros(1, requires_grad=True)\n",
        "\n",
        "#optimizer\n",
        "optimizer = optim.SGD([W,b],lr = 0.1)\n",
        "\n",
        "nb_epochs = 1000\n",
        "\n",
        "for epoch in range(nb_epochs + 1):\n",
        "  z = x_train.matmul(W) + b\n",
        "  cost = F.cross_entropy(z, y_train) #multicalss loss : cross_entropy\n",
        "\n",
        "  optimizer.zero_grad()\n",
        "  cost.backward()\n",
        "  optimizer.step()\n",
        "\n",
        "  if epoch % 100 == 0:\n",
        "    print('Epoch {:4d}/{} Cost: {:.6f}'.format(\n",
        "            epoch, nb_epochs, cost.item()\n",
        "        ))"
      ],
      "execution_count": 15,
      "outputs": [
        {
          "output_type": "stream",
          "text": [
            "Epoch    0/1000 Cost: 1.098612\n",
            "Epoch  100/1000 Cost: 0.761050\n",
            "Epoch  200/1000 Cost: 0.689991\n",
            "Epoch  300/1000 Cost: 0.643229\n",
            "Epoch  400/1000 Cost: 0.604117\n",
            "Epoch  500/1000 Cost: 0.568256\n",
            "Epoch  600/1000 Cost: 0.533922\n",
            "Epoch  700/1000 Cost: 0.500291\n",
            "Epoch  800/1000 Cost: 0.466908\n",
            "Epoch  900/1000 Cost: 0.433507\n",
            "Epoch 1000/1000 Cost: 0.399962\n"
          ],
          "name": "stdout"
        }
      ]
    },
    {
      "cell_type": "markdown",
      "metadata": {
        "id": "M6xe04xk5dAA"
      },
      "source": [
        "Implementation with nn.Module"
      ]
    },
    {
      "cell_type": "code",
      "metadata": {
        "id": "FUkjMFFb5JIs"
      },
      "source": [
        "#with nn.Module\n",
        "class SoftmaxClassifierModel(nn.Module):\n",
        "  def __init__(self):\n",
        "    super().__init__()\n",
        "    self.linear = nn.Linear(4,3)\n",
        "\n",
        "  def forward(self,x):\n",
        "    return self.linear(x)"
      ],
      "execution_count": 16,
      "outputs": []
    },
    {
      "cell_type": "code",
      "metadata": {
        "id": "y-jkTkZ45sSo"
      },
      "source": [
        "model = SoftmaxClassifierModel()"
      ],
      "execution_count": 17,
      "outputs": []
    },
    {
      "cell_type": "code",
      "metadata": {
        "colab": {
          "base_uri": "https://localhost:8080/"
        },
        "id": "R1yqVE2555_-",
        "outputId": "bdc16f1b-8c4c-437e-84f4-cba05605050a"
      },
      "source": [
        "optimizer = optim.SGD(model.parameters(), lr = 0.1)\n",
        "nb_epochs = 1000\n",
        "\n",
        "for epoch in range(nb_epochs + 1):\n",
        "  prediction = model(x_train)\n",
        "  cost = F.cross_entropy(prediction, y_train)\n",
        "\n",
        "  optimizer.zero_grad()\n",
        "  cost.backward()\n",
        "  optimizer.step()\n",
        "\n",
        "  if epoch % 100 == 0:\n",
        "    print('Epoch {:4d}/{} Cost: {:.6f}'.format(\n",
        "            epoch, nb_epochs, cost.item()\n",
        "        ))"
      ],
      "execution_count": 21,
      "outputs": [
        {
          "output_type": "stream",
          "text": [
            "Epoch    0/1000 Cost: 0.256093\n",
            "Epoch  100/1000 Cost: 0.235759\n",
            "Epoch  200/1000 Cost: 0.224217\n",
            "Epoch  300/1000 Cost: 0.213733\n",
            "Epoch  400/1000 Cost: 0.204149\n",
            "Epoch  500/1000 Cost: 0.195354\n",
            "Epoch  600/1000 Cost: 0.187255\n",
            "Epoch  700/1000 Cost: 0.179775\n",
            "Epoch  800/1000 Cost: 0.172846\n",
            "Epoch  900/1000 Cost: 0.166412\n",
            "Epoch 1000/1000 Cost: 0.160421\n"
          ],
          "name": "stdout"
        }
      ]
    },
    {
      "cell_type": "code",
      "metadata": {
        "id": "WfB1J7Jm6hhd"
      },
      "source": [
        ""
      ],
      "execution_count": null,
      "outputs": []
    }
  ]
}